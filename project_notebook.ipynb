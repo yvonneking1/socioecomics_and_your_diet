{
 "cells": [
  {
   "cell_type": "markdown",
   "metadata": {},
   "source": [
    "# Socioeconomics and your Diet\n",
    "**by Yvonne King**"
   ]
  },
  {
   "cell_type": "markdown",
   "metadata": {},
   "source": [
    "**Quick Notebook Reference**\n",
    "\n",
    "1. Project Plan\n",
    "2. Acquire Data\n",
    "3. Prepare Data\n",
    "4. Exploration\n",
    "5. Modeling\n",
    "6. Conclusions\n",
    "\n",
    "## Project Plan\n",
    "\n",
    "**Acquisition, Prep, and Initial Exploration**\n",
    "\n",
    "- Collect all files\n",
    "- Create a dataframe using pandas for each file\n",
    "- Clean and prepare the data to perform aggregations and merge each dataframe together\n",
    "- Remove/repair erroneous data\n",
    "- Look at shape of data\n",
    "\n",
    "**Exploration**\n",
    "- Answer the following question:\n",
    "    > Do more affluent neighborhoods have better restaurant choices "
   ]
  },
  {
   "cell_type": "markdown",
   "metadata": {},
   "source": [
    "## Imports"
   ]
  },
  {
   "cell_type": "code",
   "execution_count": 1,
   "metadata": {},
   "outputs": [],
   "source": [
    "import warnings\n",
    "warnings.filterwarnings(\"ignore\")\n",
    "\n",
    "#data manipulation\n",
    "import pandas as pd\n",
    "\n",
    "#Data Visualization\n",
    "import seaborn as sns\n",
    "import matplotlib.pyplot as plt\n",
    "\n",
    "#Hypothesis testing\n",
    "from math import sqrt\n",
    "from scipy import stats\n",
    "\n",
    "import acquire\n",
    "import prepare"
   ]
  },
  {
   "cell_type": "markdown",
   "metadata": {},
   "source": [
    "## Wrangle\n",
    "**Acquire**\n",
    "\n",
    "The ```acquire.py``` file has all the functions to call in our dataframes\n",
    "\n",
    "\n",
    "**Prepare**\n",
    "\n",
    "Functions have been created to handle all of the below in the ```prepare.py``` file\n",
    "1. Dropped erroneous columns\n",
    "2. Added the following calculated fields:\n",
    "    - avg_gross_income\n",
    "    - avg_total_income \n",
    "3. Updated all datatypes\n",
    "4. Update postal codes ensuring all are 5 digits\n",
    "4. Combined all data into one dataframe\n",
    "\n"
   ]
  },
  {
   "cell_type": "markdown",
   "metadata": {},
   "source": [
    "### IRS Data\n",
    "This dataframe will give us the incomes for all zipcodes"
   ]
  },
  {
   "cell_type": "code",
   "execution_count": 2,
   "metadata": {},
   "outputs": [],
   "source": [
    "# read in dataframe\n",
    "irs = prepare.prep_irs_data()"
   ]
  },
  {
   "cell_type": "code",
   "execution_count": 3,
   "metadata": {},
   "outputs": [
    {
     "data": {
      "text/html": [
       "<div>\n",
       "<style scoped>\n",
       "    .dataframe tbody tr th:only-of-type {\n",
       "        vertical-align: middle;\n",
       "    }\n",
       "\n",
       "    .dataframe tbody tr th {\n",
       "        vertical-align: top;\n",
       "    }\n",
       "\n",
       "    .dataframe thead th {\n",
       "        text-align: right;\n",
       "    }\n",
       "</style>\n",
       "<table border=\"1\" class=\"dataframe\">\n",
       "  <thead>\n",
       "    <tr style=\"text-align: right;\">\n",
       "      <th></th>\n",
       "      <th>zipcode</th>\n",
       "      <th>STATE</th>\n",
       "      <th>STATEFIPS</th>\n",
       "      <th>N1</th>\n",
       "      <th>A00100</th>\n",
       "      <th>A02650</th>\n",
       "      <th>N02650</th>\n",
       "      <th>avg_gross_income</th>\n",
       "      <th>avg_total_income</th>\n",
       "    </tr>\n",
       "  </thead>\n",
       "  <tbody>\n",
       "    <tr>\n",
       "      <th>1173</th>\n",
       "      <td>05068</td>\n",
       "      <td>VT</td>\n",
       "      <td>50</td>\n",
       "      <td>1570</td>\n",
       "      <td>77483.0</td>\n",
       "      <td>78876.0</td>\n",
       "      <td>1570</td>\n",
       "      <td>49352.229299</td>\n",
       "      <td>50239.490446</td>\n",
       "    </tr>\n",
       "    <tr>\n",
       "      <th>24868</th>\n",
       "      <td>86327</td>\n",
       "      <td>AZ</td>\n",
       "      <td>4</td>\n",
       "      <td>5020</td>\n",
       "      <td>273293.0</td>\n",
       "      <td>276717.0</td>\n",
       "      <td>5020</td>\n",
       "      <td>54440.836653</td>\n",
       "      <td>55122.908367</td>\n",
       "    </tr>\n",
       "    <tr>\n",
       "      <th>18435</th>\n",
       "      <td>62612</td>\n",
       "      <td>IL</td>\n",
       "      <td>17</td>\n",
       "      <td>930</td>\n",
       "      <td>50641.0</td>\n",
       "      <td>51385.0</td>\n",
       "      <td>930</td>\n",
       "      <td>54452.688172</td>\n",
       "      <td>55252.688172</td>\n",
       "    </tr>\n",
       "  </tbody>\n",
       "</table>\n",
       "</div>"
      ],
      "text/plain": [
       "      zipcode STATE STATEFIPS    N1    A00100    A02650  N02650  \\\n",
       "1173    05068    VT        50  1570   77483.0   78876.0    1570   \n",
       "24868   86327    AZ         4  5020  273293.0  276717.0    5020   \n",
       "18435   62612    IL        17   930   50641.0   51385.0     930   \n",
       "\n",
       "       avg_gross_income  avg_total_income  \n",
       "1173       49352.229299      50239.490446  \n",
       "24868      54440.836653      55122.908367  \n",
       "18435      54452.688172      55252.688172  "
      ]
     },
     "execution_count": 3,
     "metadata": {},
     "output_type": "execute_result"
    }
   ],
   "source": [
    "#take a look at a sample of our data to ensure everything came in as anticipated\n",
    "irs.sample(3)"
   ]
  },
  {
   "cell_type": "code",
   "execution_count": 4,
   "metadata": {},
   "outputs": [
    {
     "data": {
      "text/plain": [
       "(27658, 9)"
      ]
     },
     "execution_count": 4,
     "metadata": {},
     "output_type": "execute_result"
    }
   ],
   "source": [
    "#Let's take a quick look at the shape of the data to make sure no rows were dropped\n",
    "irs.shape"
   ]
  },
  {
   "cell_type": "code",
   "execution_count": 5,
   "metadata": {},
   "outputs": [
    {
     "data": {
      "text/plain": [
       "zipcode             0\n",
       "STATE               0\n",
       "STATEFIPS           0\n",
       "N1                  0\n",
       "A00100              0\n",
       "A02650              0\n",
       "N02650              0\n",
       "avg_gross_income    0\n",
       "avg_total_income    0\n",
       "dtype: int64"
      ]
     },
     "execution_count": 5,
     "metadata": {},
     "output_type": "execute_result"
    }
   ],
   "source": [
    "#make sure there are no nulls\n",
    "irs.isnull().sum()"
   ]
  },
  {
   "cell_type": "code",
   "execution_count": 6,
   "metadata": {},
   "outputs": [
    {
     "data": {
      "text/plain": [
       "0"
      ]
     },
     "execution_count": 6,
     "metadata": {},
     "output_type": "execute_result"
    }
   ],
   "source": [
    "irs.isna().sum().sum()"
   ]
  },
  {
   "cell_type": "code",
   "execution_count": 7,
   "metadata": {},
   "outputs": [
    {
     "data": {
      "text/plain": [
       "0"
      ]
     },
     "execution_count": 7,
     "metadata": {},
     "output_type": "execute_result"
    }
   ],
   "source": [
    "irs.isna().sum().sum()"
   ]
  },
  {
   "cell_type": "markdown",
   "metadata": {},
   "source": [
    "**Quick Notes for IRS dataframe**\n",
    "\n",
    "- Each row in our dataframe represents a zipcode in the US\n",
    "- A Data Dictionary is available in our README file"
   ]
  },
  {
   "cell_type": "markdown",
   "metadata": {},
   "source": [
    "### Restaurant Data\n",
    "This Dataframe is a list of Vegan/Vegetarian restaurants in the US (*please note this list may not be comprehensive*) "
   ]
  },
  {
   "cell_type": "code",
   "execution_count": null,
   "metadata": {},
   "outputs": [],
   "source": []
  }
 ],
 "metadata": {
  "kernelspec": {
   "display_name": "Python 3",
   "language": "python",
   "name": "python3"
  },
  "language_info": {
   "codemirror_mode": {
    "name": "ipython",
    "version": 3
   },
   "file_extension": ".py",
   "mimetype": "text/x-python",
   "name": "python",
   "nbconvert_exporter": "python",
   "pygments_lexer": "ipython3",
   "version": "3.7.4"
  }
 },
 "nbformat": 4,
 "nbformat_minor": 4
}
