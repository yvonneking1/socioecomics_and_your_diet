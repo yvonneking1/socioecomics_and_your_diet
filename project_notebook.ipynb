{
 "cells": [
  {
   "cell_type": "markdown",
   "metadata": {},
   "source": [
    "# Socioeconomics and your Diet\n",
    "**by Yvonne King**"
   ]
  },
  {
   "cell_type": "markdown",
   "metadata": {},
   "source": [
    "**Quick Notebook Reference**\n",
    "\n",
    "1. Project Plan\n",
    "2. Acquire Data\n",
    "3. Prepare Data\n",
    "4. Exploration\n",
    "5. Modeling\n",
    "6. Conclusions\n",
    "\n",
    "## Project Plan\n",
    "\n",
    "**Acquisition, Prep, and Initial Exploration**\n",
    "\n",
    "- Collect all files\n",
    "- Create a dataframe using pandas for each file\n",
    "- Clean and prepare the data to perform aggregations and merge each dataframe together\n",
    "- Remove/repair erroneous data\n",
    "- Look at shape of data\n",
    "\n",
    "**Exploration**\n",
    "- Answer the following question:\n",
    "    > Do more affluent neighborhoods have better restaurant choices "
   ]
  },
  {
   "cell_type": "markdown",
   "metadata": {},
   "source": [
    "## Imports"
   ]
  },
  {
   "cell_type": "code",
   "execution_count": 2,
   "metadata": {},
   "outputs": [],
   "source": [
    "import warnings\n",
    "warnings.filterwarnings(\"ignore\")\n",
    "\n",
    "#data manipulation\n",
    "import pandas as pd\n",
    "\n",
    "#Data Visualization\n",
    "import seaborn as sns\n",
    "import matplotlib.pyplot as plt\n",
    "\n",
    "#Hypothesis testing\n",
    "from math import sqrt\n",
    "from scipy import stats\n",
    "\n",
    "import acquire\n",
    "import prepare"
   ]
  },
  {
   "cell_type": "markdown",
   "metadata": {},
   "source": [
    "## Wrangle\n",
    "**Acquire**\n",
    "\n",
    "The ```acquire.py``` file has all the functions to call in our dataframes\n",
    "\n",
    "\n",
    "**Prepare**\n",
    "\n",
    "Functions have been created to handle all of the below in the ```prepare.py``` file\n",
    "1. Dropped erroneous columns\n",
    "2. Added the following calculated fields:\n",
    "    - avg_gross_income\n",
    "    - avg_total_income \n",
    "3. Updated all datatypes\n",
    "4. Combined all data into one dataframe\n",
    "\n"
   ]
  },
  {
   "cell_type": "markdown",
   "metadata": {},
   "source": [
    "### IRS Data\n",
    "This dataframe will give us the incomes for all zipcodes"
   ]
  },
  {
   "cell_type": "code",
   "execution_count": 7,
   "metadata": {},
   "outputs": [],
   "source": [
    "# read in dataframe\n",
    "irs = prepare.prep_irs_data()"
   ]
  },
  {
   "cell_type": "code",
   "execution_count": 8,
   "metadata": {},
   "outputs": [
    {
     "data": {
      "text/html": [
       "<div>\n",
       "<style scoped>\n",
       "    .dataframe tbody tr th:only-of-type {\n",
       "        vertical-align: middle;\n",
       "    }\n",
       "\n",
       "    .dataframe tbody tr th {\n",
       "        vertical-align: top;\n",
       "    }\n",
       "\n",
       "    .dataframe thead th {\n",
       "        text-align: right;\n",
       "    }\n",
       "</style>\n",
       "<table border=\"1\" class=\"dataframe\">\n",
       "  <thead>\n",
       "    <tr style=\"text-align: right;\">\n",
       "      <th></th>\n",
       "      <th>zipcode</th>\n",
       "      <th>STATE</th>\n",
       "      <th>STATEFIPS</th>\n",
       "      <th>N1</th>\n",
       "      <th>A00100</th>\n",
       "      <th>A02650</th>\n",
       "      <th>N02650</th>\n",
       "      <th>avg_gross_income</th>\n",
       "      <th>avg_total_income</th>\n",
       "    </tr>\n",
       "  </thead>\n",
       "  <tbody>\n",
       "    <tr>\n",
       "      <th>11542</th>\n",
       "      <td>42048</td>\n",
       "      <td>KY</td>\n",
       "      <td>21</td>\n",
       "      <td>900</td>\n",
       "      <td>35448.0</td>\n",
       "      <td>35801.0</td>\n",
       "      <td>900</td>\n",
       "      <td>39386.666667</td>\n",
       "      <td>39778.888889</td>\n",
       "    </tr>\n",
       "    <tr>\n",
       "      <th>160</th>\n",
       "      <td>1560</td>\n",
       "      <td>MA</td>\n",
       "      <td>25</td>\n",
       "      <td>2260</td>\n",
       "      <td>194325.0</td>\n",
       "      <td>196263.0</td>\n",
       "      <td>2260</td>\n",
       "      <td>85984.513274</td>\n",
       "      <td>86842.035398</td>\n",
       "    </tr>\n",
       "    <tr>\n",
       "      <th>12632</th>\n",
       "      <td>45715</td>\n",
       "      <td>OH</td>\n",
       "      <td>39</td>\n",
       "      <td>1220</td>\n",
       "      <td>58011.0</td>\n",
       "      <td>58533.0</td>\n",
       "      <td>1220</td>\n",
       "      <td>47550.000000</td>\n",
       "      <td>47977.868852</td>\n",
       "    </tr>\n",
       "  </tbody>\n",
       "</table>\n",
       "</div>"
      ],
      "text/plain": [
       "      zipcode STATE STATEFIPS    N1    A00100    A02650  N02650  \\\n",
       "11542   42048    KY        21   900   35448.0   35801.0     900   \n",
       "160      1560    MA        25  2260  194325.0  196263.0    2260   \n",
       "12632   45715    OH        39  1220   58011.0   58533.0    1220   \n",
       "\n",
       "       avg_gross_income  avg_total_income  \n",
       "11542      39386.666667      39778.888889  \n",
       "160        85984.513274      86842.035398  \n",
       "12632      47550.000000      47977.868852  "
      ]
     },
     "execution_count": 8,
     "metadata": {},
     "output_type": "execute_result"
    }
   ],
   "source": [
    "#take a look at a sample of our data to ensure everything came in as anticipated\n",
    "irs.sample(3)"
   ]
  },
  {
   "cell_type": "code",
   "execution_count": 9,
   "metadata": {},
   "outputs": [
    {
     "data": {
      "text/plain": [
       "(27658, 9)"
      ]
     },
     "execution_count": 9,
     "metadata": {},
     "output_type": "execute_result"
    }
   ],
   "source": [
    "#Let's take a quick look at the shape of the data to make sure no rows were dropped\n",
    "irs.shape"
   ]
  },
  {
   "cell_type": "code",
   "execution_count": 10,
   "metadata": {},
   "outputs": [
    {
     "data": {
      "text/plain": [
       "zipcode             0\n",
       "STATE               0\n",
       "STATEFIPS           0\n",
       "N1                  0\n",
       "A00100              0\n",
       "A02650              0\n",
       "N02650              0\n",
       "avg_gross_income    0\n",
       "avg_total_income    0\n",
       "dtype: int64"
      ]
     },
     "execution_count": 10,
     "metadata": {},
     "output_type": "execute_result"
    }
   ],
   "source": [
    "#make sure there are no nulls\n",
    "irs.isnull().sum()"
   ]
  },
  {
   "cell_type": "code",
   "execution_count": 11,
   "metadata": {},
   "outputs": [
    {
     "data": {
      "text/plain": [
       "0"
      ]
     },
     "execution_count": 11,
     "metadata": {},
     "output_type": "execute_result"
    }
   ],
   "source": [
    "irs.isna().sum().sum()"
   ]
  },
  {
   "cell_type": "code",
   "execution_count": 12,
   "metadata": {},
   "outputs": [
    {
     "data": {
      "text/plain": [
       "0"
      ]
     },
     "execution_count": 12,
     "metadata": {},
     "output_type": "execute_result"
    }
   ],
   "source": [
    "irs.isna().sum().sum()"
   ]
  },
  {
   "cell_type": "markdown",
   "metadata": {},
   "source": [
    "**Quick Notes for IRS dataframe**\n",
    "\n",
    "- Each row in our dataframe represents a zipcode in the US\n",
    "- A Data Dictionary is available in our README file"
   ]
  },
  {
   "cell_type": "markdown",
   "metadata": {},
   "source": [
    "### Restaurant Data\n",
    "This Dataframe is a list of Vegan/Vegetarian restaurants in the US (*please note this list may not be comprehensive*) "
   ]
  },
  {
   "cell_type": "code",
   "execution_count": null,
   "metadata": {},
   "outputs": [],
   "source": []
  }
 ],
 "metadata": {
  "kernelspec": {
   "display_name": "Python 3",
   "language": "python",
   "name": "python3"
  },
  "language_info": {
   "codemirror_mode": {
    "name": "ipython",
    "version": 3
   },
   "file_extension": ".py",
   "mimetype": "text/x-python",
   "name": "python",
   "nbconvert_exporter": "python",
   "pygments_lexer": "ipython3",
   "version": "3.7.4"
  }
 },
 "nbformat": 4,
 "nbformat_minor": 4
}
